{
 "cells": [
  {
   "cell_type": "code",
   "execution_count": 1,
   "metadata": {},
   "outputs": [],
   "source": [
    "# Recargar las bibliotecas necesarias debido al reinicio del estado\n",
    "import nbformat\n",
    "import os\n",
    "from pathlib import Path\n",
    "import re\n",
    "from collections import defaultdict\n",
    "import subprocess"
   ]
  },
  {
   "cell_type": "markdown",
   "metadata": {},
   "source": [
    "Primero obtenemos el directorio actual de nuestro archivo ipynb"
   ]
  },
  {
   "cell_type": "code",
   "execution_count": 2,
   "metadata": {},
   "outputs": [
    {
     "name": "stdout",
     "output_type": "stream",
     "text": [
      "El archivo ha sido leído correctamente.\n"
     ]
    }
   ],
   "source": [
    "# Obtener el directorio actual del notebook\n",
    "directorio_actual = Path().resolve()\n",
    "\n",
    "# Construir la ruta relativa al archivo notebook\n",
    "notebook_path = os.path.join(directorio_actual, 'proyecto_7.ipynb')\n",
    "\n",
    "# Verificar si el archivo existe\n",
    "if not os.path.exists(notebook_path):\n",
    "    print(f\"El archivo {notebook_path} no se encuentra.\")\n",
    "else:\n",
    "    # Leer el contenido del archivo notebook\n",
    "    with open(notebook_path, \"r\", encoding=\"utf-8\") as file_new:\n",
    "        notebook_content_new = nbformat.read(file_new, as_version=4)\n",
    "    print(\"El archivo ha sido leído correctamente.\")"
   ]
  },
  {
   "cell_type": "markdown",
   "metadata": {},
   "source": [
    "Segundo, detectamos las librerías usadas"
   ]
  },
  {
   "cell_type": "code",
   "execution_count": 3,
   "metadata": {},
   "outputs": [],
   "source": [
    "def detectar_bibliotecas(notebook_path):\n",
    "    # Leer el contenido del notebook\n",
    "    with open(notebook_path, \"r\", encoding=\"utf-8\") as file:\n",
    "        notebook = nbformat.read(file, as_version=4)\n",
    "    \n",
    "    # Diccionario para almacenar las bibliotecas detectadas\n",
    "    bibliotecas = defaultdict(int)\n",
    "\n",
    "    # Expresión regular para detectar importaciones\n",
    "    patron_import = re.compile(r'^\\s*(?:import|from)\\s+([^\\s.]+)')\n",
    "\n",
    "    # Recorrer las celdas del notebook\n",
    "    for cell in notebook.cells:\n",
    "        if cell.cell_type == 'code':\n",
    "            # Dividir el contenido de la celda en líneas\n",
    "            lineas = cell.source.split('\\n')\n",
    "            for linea in lineas:\n",
    "                # Buscar importaciones en cada línea\n",
    "                match = patron_import.match(linea)\n",
    "                if match:\n",
    "                    biblioteca = match.group(1)\n",
    "                    bibliotecas[biblioteca] += 1\n",
    "    \n",
    "    return dict(bibliotecas)"
   ]
  },
  {
   "cell_type": "markdown",
   "metadata": {},
   "source": [
    "Tercero, hacemos el documento README.md"
   ]
  },
  {
   "cell_type": "code",
   "execution_count": 4,
   "metadata": {},
   "outputs": [],
   "source": [
    "# Función para analizar el notebook y generar un README.md\n",
    "def generar_readme(notebook_path, output_path=\"../README.md\"):\n",
    "    # Leer el contenido del notebook\n",
    "    with open(notebook_path, \"r\", encoding=\"utf-8\") as file:\n",
    "        notebook = nbformat.read(file, as_version=4)\n",
    "    \n",
    "    # Contar las celdas de diferentes tipos\n",
    "    code_cells = [cell for cell in notebook.cells if cell.cell_type == \"code\"]\n",
    "    markdown_cells = [cell for cell in notebook.cells if cell.cell_type == \"markdown\"]\n",
    "    \n",
    "    # Extraer información inicial\n",
    "    first_markdown = markdown_cells[0].source if markdown_cells else \"Sin contenido de markdown\"\n",
    "    first_code = code_cells[0].source if code_cells else \"Sin contenido de código\"\n",
    "\n",
    "    # Detectar bibliotecas usadas\n",
    "    bibliotecas_usadas = detectar_bibliotecas(notebook_path)\n",
    "    bibliotecas_str = \"\\n\".join([f\"- `{biblioteca}`\" for biblioteca in bibliotecas_usadas])\n",
    "\n",
    "    # Crear el contenido del README\n",
    "    readme_content = f\"\"\"# Proyecto 7 - Análisis de Zuber, empresa de viajes compartidos de Chicago. \n",
    "\n",
    "## Descripción\n",
    "\n",
    "Proyecto para encontrar patrones en la información disponible: comprender las preferencias de los pasajeros y el impacto de los factores externos en los viajes.\n",
    "\n",
    "Descripción de los datos\n",
    "Una base de datos con información sobre viajes en taxi en Chicago: revisar el documento \"chicago_weather.py\" y la carpeta de sql_scripts (de dichos scripts se hicieron los archivos csv):\n",
    "\n",
    "tabla neighborhoods: datos sobre los barrios de la ciudad\n",
    "\n",
    "name: nombre del barrio\n",
    "neighborhood_id: código del barrio\n",
    "tabla cabs: datos sobre los taxis\n",
    "\n",
    "cab_id: código del vehículo\n",
    "vehicle_id: ID técnico del vehículo\n",
    "company_name: la empresa propietaria del vehículo\n",
    "tabla trips: datos sobre los viajes\n",
    "\n",
    "trip_id: código del viaje\n",
    "cab_id: código del vehículo que opera el viaje\n",
    "start_ts: fecha y hora del inicio del viaje (tiempo redondeado a la hora)\n",
    "end_ts: fecha y hora de finalización del viaje (tiempo redondeado a la hora)\n",
    "duration_seconds: duración del viaje en segundos\n",
    "distance_miles: distancia del viaje en millas\n",
    "pickup_location_id: código del barrio de recogida\n",
    "dropoff_location_id: código del barrio de finalización\n",
    "tabla weather_records: datos sobre el clima\n",
    "\n",
    "record_id: código del registro meteorológico\n",
    "ts: fecha y hora del registro (tiempo redondeado a la hora)\n",
    "temperature: temperatura cuando se tomó el registro\n",
    "description: breve descripción de las condiciones meteorológicas, por ejemplo, \"lluvia ligera\" o \"nubes dispersas\"\n",
    "\n",
    "## Contenido del Notebook\n",
    "- **Total de celdas:** {len(notebook.cells)}\n",
    "- **Celdas de markdown:** {len(markdown_cells)}\n",
    "- **Celdas de código:** {len(code_cells)}\n",
    "\n",
    "### Procesos de análisis\n",
    "\n",
    "1. **Carga de datos:**\n",
    "   - Lectura de datos desde archivos fuente.\n",
    "2. **Descripción de los datos:**\n",
    "   - Método info para obtener información general de los datos.\n",
    "3. **Preprocesamiento de los datos:**\n",
    "   - Limpieza de datos.\n",
    "   - Análisis de valores nulos.\n",
    "   - Análisis de valores duplicados.\n",
    "   - Análisis de valores únicos.\n",
    "   - Transformación de datos.\n",
    "4. **Análisis de los datos:**\n",
    "   - Análisis de la distribución de los datos.\n",
    "   - Análisis de los viajes por barrio.\n",
    "   - Análisis de los viajes por día de la semana.\n",
    "   - Análisis de los viajes por hora del día.\n",
    "   - Análisis de los viajes por duración.\n",
    "   - Análisis de los viajes por distancia.\n",
    "   - Análisis de los viajes por clima.\n",
    "   - Análisis de los viajes por temperatura.\n",
    "   - Análisis de los viajes por descripción del clima.\n",
    "   - Análisis de los viajes por compañía de taxis. \n",
    "   - Análisis estadísticos (t de student).\n",
    "5. **Visualización de los datos:**\n",
    "   - Creación de gráficos para visualizar los datos.\n",
    "6. **Conclusiones:**\n",
    "   - Resumen de los hallazgos y conclusiones del análisis.\n",
    "\n",
    "## Requisitos del sistema\n",
    "\n",
    "Para ejecutar este notebook, necesitarás:\n",
    "- Python 3.8 o superior\n",
    "- Dependencias listadas en `requirements.txt`\n",
    "\n",
    "## Ejecución\n",
    "1. Clona este repositorio:\n",
    "   ```bash\n",
    "   git clone <URL-del-repositorio>\n",
    "   ```\n",
    "\n",
    "2. Cambia al directorio del proyecto:\n",
    "   ```bash\n",
    "   cd <nombre-del-directorio>\n",
    "   ```\n",
    "\n",
    "3. Abre y ejecuta el notebook:\n",
    "   ```bash\n",
    "   jupyter notebook proyecto_7.ipynb\n",
    "   ```\n",
    "\n",
    "## Contribuciones\n",
    "Si deseas contribuir:\n",
    "1. Realiza un fork del repositorio.\n",
    "2. Crea una rama para tus cambios:\n",
    "   ```bash\n",
    "   git checkout -b mejora-analisis\n",
    "   ```\n",
    "3. Envía un pull request explicando tus cambios.\n",
    "\n",
    "## Licencia\n",
    "Consulta el archivo `LICENSE` para más información sobre el uso y distribución de este proyecto.\n",
    "\"\"\"\n",
    "    with open(output_path, \"w\", encoding=\"utf-8\") as readme_file:\n",
    "        readme_file.write(readme_content)\n",
    "    print(f\"README.md generado exitosamente en {output_path}\")"
   ]
  },
  {
   "cell_type": "markdown",
   "metadata": {},
   "source": [
    "Cuarto, hacemos el documento requirements.txt"
   ]
  },
  {
   "cell_type": "code",
   "execution_count": 5,
   "metadata": {},
   "outputs": [],
   "source": [
    "# Función para obtener la versión de una biblioteca\n",
    "def obtener_version(biblioteca):\n",
    "    try:\n",
    "        # Ejecutar el comando pip show para obtener la versión\n",
    "        result = subprocess.run(['pip', 'show', biblioteca], stdout=subprocess.PIPE, stderr=subprocess.PIPE, text=True)\n",
    "        for line in result.stdout.split('\\n'):\n",
    "            if line.startswith('Version:'):\n",
    "                return line.split()[-1]\n",
    "    except Exception as e:\n",
    "        print(f\"No se pudo obtener la versión de {biblioteca}: {e}\")\n",
    "    return None\n",
    "\n",
    "# Función para generar requirements.txt\n",
    "def generar_requirements(notebook_path, output_path=\"../requirements.txt\"):\n",
    "    bibliotecas_usadas = detectar_bibliotecas(notebook_path)\n",
    "    requirements = []\n",
    "\n",
    "    for biblioteca in bibliotecas_usadas:\n",
    "        version = obtener_version(biblioteca)\n",
    "        if version:\n",
    "            requirements.append(f\"{biblioteca}=={version}\")\n",
    "        else:\n",
    "            requirements.append(f\"{biblioteca}\")\n",
    "\n",
    "    # Escribir el archivo requirements.txt\n",
    "    with open(output_path, \"w\", encoding=\"utf-8\") as req_file:\n",
    "        req_file.write(\"\\n\".join(requirements))\n",
    "\n",
    "    print(f\"requirements.txt generado exitosamente en {output_path}\")"
   ]
  },
  {
   "cell_type": "markdown",
   "metadata": {},
   "source": [
    "Quinto, llamamos a la función para hacer ambos documentos"
   ]
  },
  {
   "cell_type": "code",
   "execution_count": 6,
   "metadata": {},
   "outputs": [
    {
     "name": "stdout",
     "output_type": "stream",
     "text": [
      "README.md generado exitosamente en ../README.md\n",
      "requirements.txt generado exitosamente en ../requirements.txt\n"
     ]
    }
   ],
   "source": [
    "# Llamar a la función generar_readme con la ruta del notebook\n",
    "generar_readme(notebook_path)\n",
    "\n",
    "# Llamar a la función generar_requirements con la ruta del notebook\n",
    "generar_requirements(notebook_path)"
   ]
  }
 ],
 "metadata": {
  "kernelspec": {
   "display_name": "Python 3",
   "language": "python",
   "name": "python3"
  },
  "language_info": {
   "codemirror_mode": {
    "name": "ipython",
    "version": 3
   },
   "file_extension": ".py",
   "mimetype": "text/x-python",
   "name": "python",
   "nbconvert_exporter": "python",
   "pygments_lexer": "ipython3",
   "version": "3.12.5"
  }
 },
 "nbformat": 4,
 "nbformat_minor": 2
}
